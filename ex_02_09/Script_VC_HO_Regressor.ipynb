{
  "cells": [
    {
      "cell_type": "markdown",
      "metadata": {
        "id": "XxjDrcRJYyA2"
      },
      "source": [
        "Neste script treinamos e avaliamos um modelo preditivo para uma tarefa de REGRESSÃO. É possível escolher logo no início o protocolo experimental a ser utilizado: Validação Cruzada (VC) ou Holdout (HO), assim como você pode escolher a técnica de ML entre: KNN ou DT (Decision Tree).\n",
        "\n",
        "- métricas de avaliação: coeficiente de determinação (R2) e\n",
        "MAE (mean absolute error). R2 varia entre 0 e 1, sendo 1 ótimo.\n",
        "\n",
        "Recursos necessários:\n",
        "- numpy: biblioteca numérica\n",
        "- sklearn: biblioteca de machine learning, em especial o KNN, DT, as métricas de avaliação e o model_selection que nos permite executar validação cruzada"
      ]
    },
    {
      "cell_type": "code",
      "execution_count": 24,
      "metadata": {
        "id": "SmS-tOd6u9fO"
      },
      "outputs": [],
      "source": [
        "# Importa bibliotecas necessárias\n",
        "import numpy as np\n",
        "from sklearn.neighbors import KNeighborsRegressor\n",
        "from sklearn.tree import DecisionTreeRegressor\n",
        "from sklearn.neural_network import MLPRegressor\n",
        "from sklearn import model_selection\n",
        "from sklearn.metrics import r2_score, mean_absolute_error\n",
        "from sklearn.datasets import load_diabetes"
      ]
    },
    {
      "cell_type": "markdown",
      "metadata": {
        "id": "LuQLGeQNWpME"
      },
      "source": [
        "Carregando a base de dados do problema, representada aqui por X e y, onde:\n",
        "- X: array contendo N instâncias com M atributos (atributos de entrada do problema)\n",
        "- y: array contendo o rótulo (atributo alvo) de cada instância em X\n"
      ]
    },
    {
      "cell_type": "code",
      "execution_count": null,
      "metadata": {
        "colab": {
          "base_uri": "https://localhost:8080/"
        },
        "id": "ypO-BKeSWlhU",
        "outputId": "7baafff2-8e5f-4159-8670-2f2d3b22c39d"
      },
      "outputs": [
        {
          "name": "stdout",
          "output_type": "stream",
          "text": [
            "Formato de X:  (442, 10)\n",
            "Formato de y:  (442,)\n"
          ]
        }
      ],
      "source": [
        "# A base de dados Diabetes disponível ScikitLearn\n",
        "\n",
        "X, y = load_diabetes(return_X_y=True)\n",
        "print(\"Formato de X: \", X.shape)\n",
        "print(\"Formato de y: \", y.shape)\n",
        "\n"
      ]
    },
    {
      "cell_type": "markdown",
      "metadata": {
        "id": "GoHd_-t7ddK8"
      },
      "source": [
        "Neste ponto definimos o protocolo experimental e a técnica de Machine Learning a ser utilizada."
      ]
    },
    {
      "cell_type": "code",
      "execution_count": 100,
      "metadata": {
        "id": "SIQIHr-vXYb9"
      },
      "outputs": [],
      "source": [
        "# Defina o protocolo experimental e a técnica de ML\n",
        "PE='VC' # utilize VC para validação cruzada 10 folds e HO para Holdout 70/30\n",
        "TE = 'MLP'\n",
        "\n",
        "\n",
        "match TE:\n",
        "   case 'KNN':\n",
        "      reg = KNeighborsRegressor(n_neighbors=3, weights='distance')\n",
        "      method = 'KNN'\n",
        "   case 'TREE':\n",
        "      reg = DecisionTreeRegressor(criterion='squared_error', max_depth=5)\n",
        "      method = 'Decision Tree'\n",
        "   case 'MLP':\n",
        "      reg = MLPRegressor(early_stopping=True, loss='poisson', hidden_layer_sizes=[256,128], max_iter=400, random_state=42)\n",
        "      method = \"Multilayer Perceptron\"\n",
        "   case _: assert False\n",
        "   "
      ]
    },
    {
      "cell_type": "markdown",
      "metadata": {
        "id": "UR1rKnBnX0_p"
      },
      "source": [
        "# Instanciando, treinando e testando o modelo conforme o protocolo escolhido"
      ]
    },
    {
      "cell_type": "markdown",
      "metadata": {
        "id": "jlQyzgieYfsJ"
      },
      "source": []
    },
    {
      "cell_type": "code",
      "execution_count": 101,
      "metadata": {
        "id": "5sGXRIInYuUx"
      },
      "outputs": [],
      "source": [
        "# Treinando e avaliando o modelo de acordo com o protocolo escolhido.\n",
        "if PE=='HO': # PROTOCOLO Holdout (70/30)\n",
        "    xtrain, xtest, ytrain, ytest = model_selection.train_test_split(X, y, test_size=0.3, random_state=10) # divide a base em treino e teste\n",
        "    reg.fit(xtrain, ytrain) # treina o modelo\n",
        "    result=reg.score(xtest, ytest) # testa o modelo e cálcula R2\n",
        "    y_pred=reg.predict(xtest) # retorna a predição para cada exemplo de teste\n",
        "    mae=mean_absolute_error(ytest, y_pred) # calculando MAE\n",
        "else: # PROTOCOLO Validação Cruzada (10 folds)\n",
        "    result = model_selection.cross_val_score(reg, X, y, cv=10) # executa validação cruzada considerando 10 folds, calcula R2 médio\n",
        "    y_pred=model_selection.cross_val_predict(reg, X, y, cv=10) # retorna a predição para cada exemplo de teste.\n",
        "    mae=mean_absolute_error(y, y_pred) # calculando MAE"
      ]
    },
    {
      "cell_type": "markdown",
      "metadata": {
        "id": "mJpnX6Ase_FW"
      },
      "source": [
        "Algumas observações sobre a avaliação do modelo:\n",
        "\n",
        "- A variável *result* que criamos anteriormente já tem R2 médio e desvio padrão (média dos 10 folds na validação cruzada) e apenas um valor no caso de holdout (R2).\n"
      ]
    },
    {
      "cell_type": "code",
      "execution_count": 93,
      "metadata": {
        "colab": {
          "base_uri": "https://localhost:8080/"
        },
        "id": "_vN1HK85emfw",
        "outputId": "65ab395c-2db9-43c4-af3e-b27187b3b815"
      },
      "outputs": [
        {
          "name": "stdout",
          "output_type": "stream",
          "text": [
            "RESULTADOS DO PROTOCOLO HOLDOUT -> Multilayer Perceptron\n",
            "Mean (R2): 0.42657\n",
            "Std (R2): 0.12418\n",
            "MAE: 46.69163\n"
          ]
        }
      ],
      "source": [
        "\n",
        "# Mostrando R2 conforme o protocolo escolhido\n",
        "if PE=='HO':\n",
        "  print ('RESULTADOS DO PROTOCOLO HOLDOUT ->', method)\n",
        "  print(\"R2: %.5f\" % result)\n",
        "else: # no caso de validação cruzada - média e desvio padrão\n",
        "  print ('RESULTADOS DO PROTOCOLO HOLDOUT ->', method)\n",
        "  print(\"Mean (R2): %.5f\" % result.mean())\n",
        "  print(\"Std (R2): %.5f\" % result.std())\n",
        "\n",
        "# Mostrando o erro médio absoluto\n",
        "print(\"MAE: %.5f\" % mae)\n",
        "\n",
        "# salvando o modelo\n",
        "from joblib import dump, load\n",
        "with open(\"Modelo.mod\", 'wb') as fo:\n",
        "    dump(reg, fo)"
      ]
    }
  ],
  "metadata": {
    "colab": {
      "provenance": []
    },
    "kernelspec": {
      "display_name": "ex-02-09",
      "language": "python",
      "name": "python3"
    },
    "language_info": {
      "codemirror_mode": {
        "name": "ipython",
        "version": 3
      },
      "file_extension": ".py",
      "mimetype": "text/x-python",
      "name": "python",
      "nbconvert_exporter": "python",
      "pygments_lexer": "ipython3",
      "version": "3.11.11"
    }
  },
  "nbformat": 4,
  "nbformat_minor": 0
}
