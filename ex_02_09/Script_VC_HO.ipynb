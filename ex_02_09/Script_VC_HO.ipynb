{
  "cells": [
    {
      "cell_type": "markdown",
      "metadata": {
        "id": "XxjDrcRJYyA2"
      },
      "source": [
        "Neste script treinamos e avaliamos um modelo preditivo para uma tarefa de CLASSIFICAÇÃO. É possível escolher logo no início o protocolo experimental a ser utilizado: Validação Cruzada (VC) ou Holdout (HO), assim como você pode escolher a técnica de ML entre: KNN ou DT (Decision Tree).\n",
        "\n",
        "- métricas de avaliação: taxa de acerto, precisão, revocação, f1 e matriz de confusão\n",
        "\n",
        "Recursos necessários:\n",
        "- numpy: biblioteca numérica\n",
        "- sklearn: biblioteca de machine learning, em especial o KNN, DT, as métricas de avaliação e o model_selection que nos permite executar validação cruzada"
      ]
    },
    {
      "cell_type": "code",
      "execution_count": 1,
      "metadata": {
        "id": "SmS-tOd6u9fO"
      },
      "outputs": [],
      "source": [
        "# Importa bibliotecas necessárias\n",
        "from sklearn.neighbors import KNeighborsClassifier\n",
        "from sklearn.tree import DecisionTreeClassifier\n",
        "from sklearn import model_selection\n",
        "from sklearn.neural_network import MLPClassifier\n",
        "from sklearn.naive_bayes import GaussianNB\n",
        "from sklearn.metrics import confusion_matrix, precision_score, recall_score, f1_score, ConfusionMatrixDisplay\n",
        "from sklearn.datasets import load_digits"
      ]
    },
    {
      "cell_type": "markdown",
      "metadata": {
        "id": "LuQLGeQNWpME"
      },
      "source": [
        "Carregando a base de dados do problema, representada aqui por X e y, onde:\n",
        "- X: array contendo N instâncias com M atributos (atributos de entrada do problema)\n",
        "- y: array contendo o rótulo (atributo alvo) de cada instância em X\n"
      ]
    },
    {
      "cell_type": "code",
      "execution_count": 2,
      "metadata": {
        "colab": {
          "base_uri": "https://localhost:8080/"
        },
        "id": "ypO-BKeSWlhU",
        "outputId": "67b6c348-0168-4ac8-a729-6fa6f8aa5a6c"
      },
      "outputs": [
        {
          "name": "stdout",
          "output_type": "stream",
          "text": [
            "Formato de X:  (1797, 64)\n",
            "Formato de y:  (1797,)\n"
          ]
        }
      ],
      "source": [
        "# A base de dados digits é composto por 1.797 instâncias (N=1.797), imagens de tamanho 8x8\n",
        "# e cada instância é representada por um vetor de 64 atributos (M=64), sendo que cada atributo pode ter um valor entre 0 e 16 (valor do pixel)\n",
        "\n",
        "X, y = load_digits(return_X_y=True)\n",
        "print(\"Formato de X: \", X.shape)\n",
        "print(\"Formato de y: \", y.shape)"
      ]
    },
    {
      "cell_type": "markdown",
      "metadata": {
        "id": "GoHd_-t7ddK8"
      },
      "source": [
        "Neste ponto definimos o protocolo experimental e a técnica de Machine Learning a ser utilizada."
      ]
    },
    {
      "cell_type": "code",
      "execution_count": 3,
      "metadata": {
        "id": "SIQIHr-vXYb9"
      },
      "outputs": [],
      "source": [
        "# Defina o protocolo experimental e a técnica de ML\n",
        "PE='VC' # utilize VC para validação cruzada 10 folds e HO para Holdout 70/30\n",
        "TE = 'NAIVE'\n",
        "\n",
        "match TE:\n",
        " case 'KNN':\n",
        "   clf = KNeighborsClassifier(n_neighbors=3, weights='distance')\n",
        "   method = 'KNN'\n",
        " case 'TREE':\n",
        "   clf = DecisionTreeClassifier(criterion='entropy', max_depth=5)\n",
        "   method = 'Decision Tree'\n",
        " case \"MLP\":\n",
        "    clf = MLPClassifier(early_stopping=True, random_state=42, hidden_layer_sizes=[64])\n",
        "    method = 'Multilayer Perceptron'\n",
        " case \"NAIVE\":\n",
        "   clf  = GaussianNB()\n",
        "   method = 'Naive Bayes'"
      ]
    },
    {
      "cell_type": "markdown",
      "metadata": {
        "id": "UR1rKnBnX0_p"
      },
      "source": [
        "# Instanciando, treinando e testando o modelo conforme o protocolo escolhido"
      ]
    },
    {
      "cell_type": "markdown",
      "metadata": {
        "id": "jlQyzgieYfsJ"
      },
      "source": []
    },
    {
      "cell_type": "code",
      "execution_count": 4,
      "metadata": {
        "id": "5sGXRIInYuUx"
      },
      "outputs": [],
      "source": [
        "# Treinando e avaliando o modelo de acordo com o protocolo escolhido.\n",
        "\n",
        "if PE=='HO': # PROTOCOLO Holdout (70/30)\n",
        "    xtrain, xtest, ytrain, ytest = model_selection.train_test_split(X, y, test_size=0.3, random_state=10) # divide a base em treino e teste\n",
        "    clf.fit(xtrain, ytrain) # treina o modelo\n",
        "    result=clf.score(xtest, ytest) # testa o modelo e cálcula da taxa de acerto\n",
        "    y_pred=clf.predict(xtest) # retorna a predição para cada exemplo de teste\n",
        "    predicted_proba=clf.predict_proba(xtest) # retorna a probabilidade de cada classe para cada exemplo de teste\n",
        "    precision=precision_score(ytest, y_pred, average='weighted') # calculando precisão\n",
        "    recall=recall_score(ytest, y_pred, average='weighted') # calculando revocação\n",
        "    f1=f1_score(ytest, y_pred, average='weighted') # calculando f1\n",
        "    matrix=confusion_matrix(ytest, y_pred) # calculando a matriz de confusão\n",
        "else: # PROTOCOLO Validação Cruzada (10 folds)\n",
        "    result = model_selection.cross_val_score(clf, X, y, cv=10) # executa validação cruzada considerando 10 folds.\n",
        "    y_pred=model_selection.cross_val_predict(clf, X, y, cv=10) # retorna a predição para cada exemplo de teste.\n",
        "    predicted_proba=model_selection.cross_val_predict(clf, X, y, cv=10, method='predict_proba') # retorna a probabilidade de cada classe para cada exemplo de teste.\n",
        "    precision=precision_score(y, y_pred, average='weighted') # calculando precisão\n",
        "    recall=recall_score(y, y_pred, average='weighted') # calculando revocação\n",
        "    f1=f1_score(y, y_pred, average='weighted') # calculando f1\n",
        "    matrix=confusion_matrix(y, y_pred) # calculando a matriz de confusão\n"
      ]
    },
    {
      "cell_type": "markdown",
      "metadata": {
        "id": "mJpnX6Ase_FW"
      },
      "source": [
        "Algumas observações sobre a avaliação do modelo:\n",
        "\n",
        "- A variável *result* que criamos anteriormente já tem a taxa de acerto média e desvio padrão (média dos 10 folds na validação cruzada) e apenas um valor no caso de holdout.\n",
        "\n",
        "- As funções predict() e cross_val_predict()* retornam a classe para cada exemplo de teste. Quando usamos o parâmetro '*method=predict_proba*' retorna a probabilidade de cada classe para cada exemplo de teste.\n",
        "\n",
        "Considerando tp=true positivive, fp=false positive e fn=false negative.\n",
        "\n",
        "- A função *precision_score()*: calcula tp / (tp + fp)\n",
        "\n",
        "- A função *recall_score()* calcula: tp / (tp + fn)\n",
        "\n",
        "- A função *f1_score()* calcula a média harmônica entre *precision* e *recall*.\n",
        "\n",
        "- A função *confusion_matrix()* recebe como entrada os rótulos do teste (y_test) e a predição do modelo (y_pred). Ela retorna uma matriz CxC onde C é a quandidade de classes. No exemplo C=10, logo uma matriz 10x10 onde na diagonal temos os acertos e nas demais posições as confusões entre as classes do problema. A matriz de confusão é usada para avaliar classificador apenas e muito importante para analisarmos os erros do nosso modelo (ou hipótese de solução para o problema).  \n"
      ]
    },
    {
      "cell_type": "code",
      "execution_count": 5,
      "metadata": {
        "colab": {
          "base_uri": "https://localhost:8080/",
          "height": 571
        },
        "id": "_vN1HK85emfw",
        "outputId": "4e4fdd3d-fa95-4ef8-a7c7-e6cef6988c85"
      },
      "outputs": [
        {
          "name": "stdout",
          "output_type": "stream",
          "text": [
            "RESULTADOS DO PROTOCOLO CROSS-VALIDATION-> Naive Bayes\n",
            "Mean Accuracy: 0.81139\n",
            "Mean Std: 0.06333\n",
            "Precision = 0.837 \n",
            "Recall = 0.811 \n",
            "F1 = 0.814 \n",
            "Matriz de Confusão\n"
          ]
        },
        {
          "data": {
            "image/png": "[encoded data removed]",
            "text/plain": [
              "<Figure size 640x480 with 2 Axes>"
            ]
          },
          "metadata": {},
          "output_type": "display_data"
        }
      ],
      "source": [
        "\n",
        "# Mostrando taxas de acerto conforme o protocolo escolhido\n",
        "if PE=='HO':\n",
        "  print ('RESULTADOS DO PROTOCOLO HOLDOUT ->', method)\n",
        "  print(\"Accuracy: %.5f\" % result)\n",
        "else: # no caso de validação cruzada - média e desvio padrão\n",
        "  print ('RESULTADOS DO PROTOCOLO CROSS-VALIDATION->', method)\n",
        "  print(\"Mean Accuracy: %.5f\" % result.mean())\n",
        "  print(\"Mean Std: %.5f\" % result.std())\n",
        "\n",
        "# Precisão na base de teste\n",
        "print(\"Precision = %.3f \" % precision)\n",
        "\n",
        "# Revocação na base de teste\n",
        "print(\"Recall = %.3f \" % recall)\n",
        "\n",
        "# f1 na base de teste\n",
        "print(\"F1 = %.3f \" % f1)\n",
        "\n",
        "print(\"Matriz de Confusão\")\n",
        "labels=[0,1,2,3,4,5,6,7,8,9] # isto muda conforme o problema\n",
        "disp=ConfusionMatrixDisplay(confusion_matrix=matrix,display_labels=labels)\n",
        "disp.plot()\n",
        "\n",
        "# salvando o modelo\n",
        "from joblib import dump, load\n",
        "with open(\"Modelo.mod\", 'wb') as fo:\n",
        "    dump(clf, fo)"
      ]
    },
    {
      "cell_type": "markdown",
      "metadata": {
        "id": "lMgRPNIMekfU"
      },
      "source": []
    }
  ],
  "metadata": {
    "colab": {
      "provenance": []
    },
    "kernelspec": {
      "display_name": "ex-02-09",
      "language": "python",
      "name": "python3"
    },
    "language_info": {
      "codemirror_mode": {
        "name": "ipython",
        "version": 3
      },
      "file_extension": ".py",
      "mimetype": "text/x-python",
      "name": "python",
      "nbconvert_exporter": "python",
      "pygments_lexer": "ipython3",
      "version": "3.11.11"
    }
  },
  "nbformat": 4,
  "nbformat_minor": 0
}
